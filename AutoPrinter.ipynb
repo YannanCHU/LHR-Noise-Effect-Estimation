{
 "cells": [
  {
   "cell_type": "code",
   "execution_count": 104,
   "metadata": {},
   "outputs": [],
   "source": [
    "import arcpy\n",
    "import os\n",
    "import uuid\n",
    "\n",
    "# import credentials\n",
    "# secured_credentials = arcpy.ImportCredentials([r\"OS Maps API on api.os.uk.wmts\"])\n",
    "aprx = arcpy.mp.ArcGISProject(r\"current\")\n",
    "m = aprx.listMaps()[0]\n",
    "mv = m.defaultView\n",
    "\n",
    "ext = mv.camera.getExtent()"
   ]
  },
  {
   "cell_type": "code",
   "execution_count": 105,
   "metadata": {
    "collapsed": true
   },
   "outputs": [
    {
     "data": {
      "text/plain": [
       "'E:\\\\此刻之前\\\\OneDrive\\\\文档\\\\ArcGIS\\\\Projects\\\\MyProject1_noise\\\\scratch\\\\map2.png'"
      ]
     },
     "execution_count": 105,
     "metadata": {},
     "output_type": "execute_result"
    }
   ],
   "source": [
    "# Change the extent of the map view\n",
    "ext.XMin = ext.XMin\n",
    "ext.YMin = ext.YMin\n",
    "ext.XMax = ext.XMax\n",
    "ext.YMax = ext.YMax\n",
    "mv.camera.setExtent(ext)\n",
    "\n",
    "output = 'map2.png'.format(str(uuid.uuid1()))\n",
    "Output_File = os.path.join(arcpy.env.scratchFolder, output)\n",
    "\n",
    "# Export the web map\n",
    "mv.exportToPNG(Output_File, width=2048, height=2048, resolution=128, \n",
    "               world_file=True, color_mode=\"32-BIT_WITH_ALPHA\", embed_color_profile=True)\n",
    "\n",
    "# Set the output parameter to be the output file of the server job\n",
    "arcpy.SetParameterAsText(1, Output_File)"
   ]
  }
 ],
 "metadata": {
  "kernelspec": {
   "display_name": "ArcGISPro",
   "language": "Python",
   "name": "python3"
  },
  "language_info": {
   "file_extension": ".py",
   "name": "python",
   "version": "3"
  }
 },
 "nbformat": 4,
 "nbformat_minor": 2
}
