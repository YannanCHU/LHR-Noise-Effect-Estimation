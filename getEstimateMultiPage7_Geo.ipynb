{
 "cells": [
  {
   "cell_type": "code",
   "execution_count": 2,
   "metadata": {},
   "outputs": [],
   "source": [
    "import urllib\n",
    "import re\n",
    "from bs4 import BeautifulSoup\n",
    "import pandas as pd\n",
    "import matplotlib.pyplot as plt\n",
    "import numpy as np\n",
    "import scipy.io as sio\n",
    "import requests\n",
    "import json\n",
    "\n",
    "geoInfRequestBaseurl = 'http://www.mapquestapi.com/geocoding/v1/address'\n",
    "zooplaBaseurl = 'https://www.zoopla.co.uk/property/uprn/100021555'\n",
    "head = {\n",
    "    'User-Agent': 'Mozilla/5.0 (Windows NT 10.0; Win64; x64) AppleWebKit/537.36 (KHTML, like Gecko) Chrome/99.0.4844.82 Safari/537.36'}\n",
    "\n",
    "pattern_price = re.compile(r'\"saleEstimate\":{\"__typename\":\"SaleEstimate\",\"lowerPrice\":(.*?),\"currentPrice\":(.*?),\"upperPrice\":(.*?),\"');\n",
    "pattern_address = re.compile(r'\"address\":{\"__typename\":\"Address\",\"fullAddress\":\"(.*?)\"');\n",
    "\n",
    "price_lower = []\n",
    "price_middle = []\n",
    "price_higher = []\n",
    "address = []\n",
    "longitude = []\n",
    "latitude = []\n",
    "\n",
    "propertyIDBegin = 48\n",
    "propertyIDEnd = 96\n",
    "baseVal = 419-48\n",
    "\n",
    "for page in range(propertyIDBegin, propertyIDEnd+1, 2):\n",
    "    # read the url of each page\n",
    "    # print(\"read page\", page)\n",
    "\n",
    "    url = zooplaBaseurl + str(page+baseVal) + '/'\n",
    "\n",
    "    request = urllib.request.Request(url, headers=head)\n",
    "    response = urllib.request.urlopen(request)\n",
    "    html = response.read().decode('utf-8')\n",
    "\n",
    "    soup_str = str(BeautifulSoup(html, 'html.parser'));\n",
    "\n",
    "    try:\n",
    "        price_str = pattern_price.findall(soup_str)\n",
    "        price_middle.append(float(price_str[0][1]))\n",
    "        price_lower.append(float(price_str[0][0]))\n",
    "        price_higher.append(float(price_str[0][2]))\n",
    "\n",
    "    except:\n",
    "        print('POA')\n",
    "        price_middle.append(float(\"nan\"))\n",
    "        price_lower.append(float(\"nan\"))\n",
    "        price_higher.append(float(\"nan\"))\n",
    "    \n",
    "    try:\n",
    "        address_str = pattern_address.findall(soup_str)\n",
    "        address.append(address_str[0])\n",
    "\n",
    "        parameters = {\n",
    "            \"key\": \"Vlb51W9N9xMii3NZLllYIlgYJIEiG4gX\",\n",
    "            \"location\": address_str[0]+',London,England'\n",
    "        }\n",
    "\n",
    "        response = requests.get(geoInfRequestBaseurl, params=parameters)\n",
    "        dataJ = json.loads(response.text)['results']\n",
    "        lat = (dataJ[0]['locations'][0]['latLng']['lat'])\n",
    "        lng = (dataJ[0]['locations'][0]['latLng']['lng'])\n",
    "\n",
    "        longitude.append(lng)\n",
    "        latitude.append(lat)\n",
    "\n",
    "\n",
    "    except:\n",
    "        print('Address None')\n",
    "        address.append('None')\n",
    "        longitude.append(float(\"nan\"))\n",
    "        latitude.append(float(\"nan\"))\n",
    "\n",
    "\n"
   ]
  },
  {
   "cell_type": "code",
   "execution_count": 3,
   "metadata": {},
   "outputs": [
    {
     "data": {
      "text/plain": [
       "'TW4 5BQ'"
      ]
     },
     "execution_count": 3,
     "metadata": {},
     "output_type": "execute_result"
    }
   ],
   "source": [
    "postCodePattern = re.compile(\n",
    "    r'\\b[A-Z]{1,2}[0-9][A-Z0-9]? [0-9][ABD-HJLNP-UW-Z]{2}\\b')\n",
    "postCode = postCodePattern.findall(address[0])\n",
    "postCode[0]\n"
   ]
  },
  {
   "cell_type": "code",
   "execution_count": 4,
   "metadata": {},
   "outputs": [
    {
     "data": {
      "text/plain": [
       "587000.0"
      ]
     },
     "execution_count": 4,
     "metadata": {},
     "output_type": "execute_result"
    }
   ],
   "source": [
    "price_lower[0]"
   ]
  },
  {
   "cell_type": "code",
   "execution_count": 5,
   "metadata": {},
   "outputs": [
    {
     "data": {
      "text/plain": [
       "'Munster Avenue'"
      ]
     },
     "execution_count": 5,
     "metadata": {},
     "output_type": "execute_result"
    }
   ],
   "source": [
    "roadNamePattern = re.compile(r'\\d{1,3} (.*?),')\n",
    "roadName = roadNamePattern.findall(address[0])\n",
    "roadName[0]\n"
   ]
  },
  {
   "cell_type": "code",
   "execution_count": 6,
   "metadata": {},
   "outputs": [
    {
     "data": {
      "text/html": [
       "<div>\n",
       "<style scoped>\n",
       "    .dataframe tbody tr th:only-of-type {\n",
       "        vertical-align: middle;\n",
       "    }\n",
       "\n",
       "    .dataframe tbody tr th {\n",
       "        vertical-align: top;\n",
       "    }\n",
       "\n",
       "    .dataframe thead th {\n",
       "        text-align: right;\n",
       "    }\n",
       "</style>\n",
       "<table border=\"1\" class=\"dataframe\">\n",
       "  <thead>\n",
       "    <tr style=\"text-align: right;\">\n",
       "      <th></th>\n",
       "      <th>Low</th>\n",
       "      <th>Estimated price</th>\n",
       "      <th>High</th>\n",
       "      <th>Address</th>\n",
       "      <th>House number</th>\n",
       "      <th>Longitude</th>\n",
       "      <th>Latitude</th>\n",
       "    </tr>\n",
       "  </thead>\n",
       "  <tbody>\n",
       "    <tr>\n",
       "      <th>0</th>\n",
       "      <td>587000.0</td>\n",
       "      <td>652000.0</td>\n",
       "      <td>717000.0</td>\n",
       "      <td>48 Munster Avenue, Hounslow, TW4 5BQ</td>\n",
       "      <td>48</td>\n",
       "      <td>-0.38136</td>\n",
       "      <td>51.46275</td>\n",
       "    </tr>\n",
       "    <tr>\n",
       "      <th>1</th>\n",
       "      <td>461000.0</td>\n",
       "      <td>486000.0</td>\n",
       "      <td>510000.0</td>\n",
       "      <td>50 Munster Avenue, Hounslow, TW4 5BQ</td>\n",
       "      <td>50</td>\n",
       "      <td>-0.38149</td>\n",
       "      <td>51.46273</td>\n",
       "    </tr>\n",
       "    <tr>\n",
       "      <th>2</th>\n",
       "      <td>493000.0</td>\n",
       "      <td>547000.0</td>\n",
       "      <td>602000.0</td>\n",
       "      <td>52 Munster Avenue, Hounslow, TW4 5BQ</td>\n",
       "      <td>52</td>\n",
       "      <td>-0.38157</td>\n",
       "      <td>51.46270</td>\n",
       "    </tr>\n",
       "    <tr>\n",
       "      <th>3</th>\n",
       "      <td>473000.0</td>\n",
       "      <td>526000.0</td>\n",
       "      <td>578000.0</td>\n",
       "      <td>54 Munster Avenue, Hounslow, TW4 5BQ</td>\n",
       "      <td>54</td>\n",
       "      <td>-0.38169</td>\n",
       "      <td>51.46267</td>\n",
       "    </tr>\n",
       "    <tr>\n",
       "      <th>4</th>\n",
       "      <td>509000.0</td>\n",
       "      <td>566000.0</td>\n",
       "      <td>623000.0</td>\n",
       "      <td>56 Munster Avenue, Hounslow, TW4 5BQ</td>\n",
       "      <td>56</td>\n",
       "      <td>-0.38177</td>\n",
       "      <td>51.46264</td>\n",
       "    </tr>\n",
       "    <tr>\n",
       "      <th>5</th>\n",
       "      <td>509000.0</td>\n",
       "      <td>566000.0</td>\n",
       "      <td>623000.0</td>\n",
       "      <td>58 Munster Avenue, Hounslow, TW4 5BQ</td>\n",
       "      <td>58</td>\n",
       "      <td>-0.38188</td>\n",
       "      <td>51.46261</td>\n",
       "    </tr>\n",
       "    <tr>\n",
       "      <th>6</th>\n",
       "      <td>460000.0</td>\n",
       "      <td>575000.0</td>\n",
       "      <td>690000.0</td>\n",
       "      <td>60 Munster Avenue, Hounslow, TW4 5BQ</td>\n",
       "      <td>60</td>\n",
       "      <td>-0.38196</td>\n",
       "      <td>51.46258</td>\n",
       "    </tr>\n",
       "    <tr>\n",
       "      <th>7</th>\n",
       "      <td>499000.0</td>\n",
       "      <td>526000.0</td>\n",
       "      <td>552000.0</td>\n",
       "      <td>62 Munster Avenue, Hounslow, TW4 5BQ</td>\n",
       "      <td>62</td>\n",
       "      <td>-0.38208</td>\n",
       "      <td>51.46255</td>\n",
       "    </tr>\n",
       "    <tr>\n",
       "      <th>8</th>\n",
       "      <td>453000.0</td>\n",
       "      <td>503000.0</td>\n",
       "      <td>553000.0</td>\n",
       "      <td>64 Munster Avenue, Hounslow, TW4 5BQ</td>\n",
       "      <td>64</td>\n",
       "      <td>-0.38176</td>\n",
       "      <td>51.46391</td>\n",
       "    </tr>\n",
       "    <tr>\n",
       "      <th>9</th>\n",
       "      <td>482000.0</td>\n",
       "      <td>536000.0</td>\n",
       "      <td>590000.0</td>\n",
       "      <td>66 Munster Avenue, Hounslow, TW4 5BQ</td>\n",
       "      <td>66</td>\n",
       "      <td>-0.38228</td>\n",
       "      <td>51.46249</td>\n",
       "    </tr>\n",
       "    <tr>\n",
       "      <th>10</th>\n",
       "      <td>456000.0</td>\n",
       "      <td>507000.0</td>\n",
       "      <td>558000.0</td>\n",
       "      <td>68 Munster Avenue, Hounslow, TW4 5BQ</td>\n",
       "      <td>68</td>\n",
       "      <td>-0.38236</td>\n",
       "      <td>51.46247</td>\n",
       "    </tr>\n",
       "    <tr>\n",
       "      <th>11</th>\n",
       "      <td>516000.0</td>\n",
       "      <td>543000.0</td>\n",
       "      <td>570000.0</td>\n",
       "      <td>70 Munster Avenue, Hounslow, TW4 5BQ</td>\n",
       "      <td>70</td>\n",
       "      <td>-0.38247</td>\n",
       "      <td>51.46244</td>\n",
       "    </tr>\n",
       "    <tr>\n",
       "      <th>12</th>\n",
       "      <td>485000.0</td>\n",
       "      <td>511000.0</td>\n",
       "      <td>537000.0</td>\n",
       "      <td>72 Munster Avenue, Hounslow, TW4 5BQ</td>\n",
       "      <td>72</td>\n",
       "      <td>-0.38256</td>\n",
       "      <td>51.46241</td>\n",
       "    </tr>\n",
       "    <tr>\n",
       "      <th>13</th>\n",
       "      <td>530000.0</td>\n",
       "      <td>558000.0</td>\n",
       "      <td>586000.0</td>\n",
       "      <td>74 Munster Avenue, Hounslow, TW4 5BQ</td>\n",
       "      <td>74</td>\n",
       "      <td>-0.38176</td>\n",
       "      <td>51.46391</td>\n",
       "    </tr>\n",
       "    <tr>\n",
       "      <th>14</th>\n",
       "      <td>520000.0</td>\n",
       "      <td>577000.0</td>\n",
       "      <td>635000.0</td>\n",
       "      <td>76 Munster Avenue, Hounslow, TW4 5BQ</td>\n",
       "      <td>76</td>\n",
       "      <td>-0.38274</td>\n",
       "      <td>51.46234</td>\n",
       "    </tr>\n",
       "    <tr>\n",
       "      <th>15</th>\n",
       "      <td>506000.0</td>\n",
       "      <td>533000.0</td>\n",
       "      <td>560000.0</td>\n",
       "      <td>78 Munster Avenue, Hounslow, TW4 5BQ</td>\n",
       "      <td>78</td>\n",
       "      <td>-0.38286</td>\n",
       "      <td>51.46231</td>\n",
       "    </tr>\n",
       "    <tr>\n",
       "      <th>16</th>\n",
       "      <td>554000.0</td>\n",
       "      <td>616000.0</td>\n",
       "      <td>678000.0</td>\n",
       "      <td>80 Munster Avenue, Hounslow, TW4 5BQ</td>\n",
       "      <td>80</td>\n",
       "      <td>-0.38294</td>\n",
       "      <td>51.46228</td>\n",
       "    </tr>\n",
       "    <tr>\n",
       "      <th>17</th>\n",
       "      <td>494000.0</td>\n",
       "      <td>549000.0</td>\n",
       "      <td>604000.0</td>\n",
       "      <td>82 Munster Avenue, Hounslow, TW4 5BJ</td>\n",
       "      <td>82</td>\n",
       "      <td>-0.38308</td>\n",
       "      <td>51.46227</td>\n",
       "    </tr>\n",
       "    <tr>\n",
       "      <th>18</th>\n",
       "      <td>500000.0</td>\n",
       "      <td>556000.0</td>\n",
       "      <td>611000.0</td>\n",
       "      <td>84 Munster Avenue, Hounslow, TW4 5BJ</td>\n",
       "      <td>84</td>\n",
       "      <td>-0.38176</td>\n",
       "      <td>51.46391</td>\n",
       "    </tr>\n",
       "    <tr>\n",
       "      <th>19</th>\n",
       "      <td>490000.0</td>\n",
       "      <td>545000.0</td>\n",
       "      <td>599000.0</td>\n",
       "      <td>86 Munster Avenue, Hounslow, TW4 5BJ</td>\n",
       "      <td>86</td>\n",
       "      <td>-0.38328</td>\n",
       "      <td>51.46221</td>\n",
       "    </tr>\n",
       "    <tr>\n",
       "      <th>20</th>\n",
       "      <td>489000.0</td>\n",
       "      <td>543000.0</td>\n",
       "      <td>598000.0</td>\n",
       "      <td>88 Munster Avenue, Hounslow, TW4 5BJ</td>\n",
       "      <td>88</td>\n",
       "      <td>-0.38336</td>\n",
       "      <td>51.46218</td>\n",
       "    </tr>\n",
       "    <tr>\n",
       "      <th>21</th>\n",
       "      <td>468000.0</td>\n",
       "      <td>520000.0</td>\n",
       "      <td>572000.0</td>\n",
       "      <td>90 Munster Avenue, Hounslow, TW4 5BJ</td>\n",
       "      <td>90</td>\n",
       "      <td>-0.38348</td>\n",
       "      <td>51.46215</td>\n",
       "    </tr>\n",
       "    <tr>\n",
       "      <th>22</th>\n",
       "      <td>499000.0</td>\n",
       "      <td>525000.0</td>\n",
       "      <td>551000.0</td>\n",
       "      <td>92 Munster Avenue, Hounslow, TW4 5BJ</td>\n",
       "      <td>92</td>\n",
       "      <td>-0.38356</td>\n",
       "      <td>51.46213</td>\n",
       "    </tr>\n",
       "    <tr>\n",
       "      <th>23</th>\n",
       "      <td>542000.0</td>\n",
       "      <td>602000.0</td>\n",
       "      <td>662000.0</td>\n",
       "      <td>94 Munster Avenue, Hounslow, TW4 5BJ</td>\n",
       "      <td>94</td>\n",
       "      <td>-0.38176</td>\n",
       "      <td>51.46391</td>\n",
       "    </tr>\n",
       "    <tr>\n",
       "      <th>24</th>\n",
       "      <td>504000.0</td>\n",
       "      <td>560000.0</td>\n",
       "      <td>616000.0</td>\n",
       "      <td>96 Munster Avenue, Hounslow, TW4 5BJ</td>\n",
       "      <td>96</td>\n",
       "      <td>-0.38375</td>\n",
       "      <td>51.46207</td>\n",
       "    </tr>\n",
       "  </tbody>\n",
       "</table>\n",
       "</div>"
      ],
      "text/plain": [
       "         Low  Estimated price      High                               Address  \\\n",
       "0   587000.0         652000.0  717000.0  48 Munster Avenue, Hounslow, TW4 5BQ   \n",
       "1   461000.0         486000.0  510000.0  50 Munster Avenue, Hounslow, TW4 5BQ   \n",
       "2   493000.0         547000.0  602000.0  52 Munster Avenue, Hounslow, TW4 5BQ   \n",
       "3   473000.0         526000.0  578000.0  54 Munster Avenue, Hounslow, TW4 5BQ   \n",
       "4   509000.0         566000.0  623000.0  56 Munster Avenue, Hounslow, TW4 5BQ   \n",
       "5   509000.0         566000.0  623000.0  58 Munster Avenue, Hounslow, TW4 5BQ   \n",
       "6   460000.0         575000.0  690000.0  60 Munster Avenue, Hounslow, TW4 5BQ   \n",
       "7   499000.0         526000.0  552000.0  62 Munster Avenue, Hounslow, TW4 5BQ   \n",
       "8   453000.0         503000.0  553000.0  64 Munster Avenue, Hounslow, TW4 5BQ   \n",
       "9   482000.0         536000.0  590000.0  66 Munster Avenue, Hounslow, TW4 5BQ   \n",
       "10  456000.0         507000.0  558000.0  68 Munster Avenue, Hounslow, TW4 5BQ   \n",
       "11  516000.0         543000.0  570000.0  70 Munster Avenue, Hounslow, TW4 5BQ   \n",
       "12  485000.0         511000.0  537000.0  72 Munster Avenue, Hounslow, TW4 5BQ   \n",
       "13  530000.0         558000.0  586000.0  74 Munster Avenue, Hounslow, TW4 5BQ   \n",
       "14  520000.0         577000.0  635000.0  76 Munster Avenue, Hounslow, TW4 5BQ   \n",
       "15  506000.0         533000.0  560000.0  78 Munster Avenue, Hounslow, TW4 5BQ   \n",
       "16  554000.0         616000.0  678000.0  80 Munster Avenue, Hounslow, TW4 5BQ   \n",
       "17  494000.0         549000.0  604000.0  82 Munster Avenue, Hounslow, TW4 5BJ   \n",
       "18  500000.0         556000.0  611000.0  84 Munster Avenue, Hounslow, TW4 5BJ   \n",
       "19  490000.0         545000.0  599000.0  86 Munster Avenue, Hounslow, TW4 5BJ   \n",
       "20  489000.0         543000.0  598000.0  88 Munster Avenue, Hounslow, TW4 5BJ   \n",
       "21  468000.0         520000.0  572000.0  90 Munster Avenue, Hounslow, TW4 5BJ   \n",
       "22  499000.0         525000.0  551000.0  92 Munster Avenue, Hounslow, TW4 5BJ   \n",
       "23  542000.0         602000.0  662000.0  94 Munster Avenue, Hounslow, TW4 5BJ   \n",
       "24  504000.0         560000.0  616000.0  96 Munster Avenue, Hounslow, TW4 5BJ   \n",
       "\n",
       "    House number  Longitude  Latitude  \n",
       "0             48   -0.38136  51.46275  \n",
       "1             50   -0.38149  51.46273  \n",
       "2             52   -0.38157  51.46270  \n",
       "3             54   -0.38169  51.46267  \n",
       "4             56   -0.38177  51.46264  \n",
       "5             58   -0.38188  51.46261  \n",
       "6             60   -0.38196  51.46258  \n",
       "7             62   -0.38208  51.46255  \n",
       "8             64   -0.38176  51.46391  \n",
       "9             66   -0.38228  51.46249  \n",
       "10            68   -0.38236  51.46247  \n",
       "11            70   -0.38247  51.46244  \n",
       "12            72   -0.38256  51.46241  \n",
       "13            74   -0.38176  51.46391  \n",
       "14            76   -0.38274  51.46234  \n",
       "15            78   -0.38286  51.46231  \n",
       "16            80   -0.38294  51.46228  \n",
       "17            82   -0.38308  51.46227  \n",
       "18            84   -0.38176  51.46391  \n",
       "19            86   -0.38328  51.46221  \n",
       "20            88   -0.38336  51.46218  \n",
       "21            90   -0.38348  51.46215  \n",
       "22            92   -0.38356  51.46213  \n",
       "23            94   -0.38176  51.46391  \n",
       "24            96   -0.38375  51.46207  "
      ]
     },
     "execution_count": 6,
     "metadata": {},
     "output_type": "execute_result"
    }
   ],
   "source": [
    "raw_data = pd.DataFrame({\"Low\": price_lower, \"Estimated price\": price_middle, \"High\": price_higher,\n",
    "                        \"Address\": address, 'House number': range(propertyIDBegin, propertyIDEnd+1, 2), \n",
    "                        \"Longitude\": longitude, \"Latitude\": latitude})\n",
    "raw_data.to_csv(postCode[0]+\" price data.csv\", index=True, header=True)\n",
    "sio.savemat(postCode[0]+' price data.mat', {\"Low\": price_lower, \"Estimate\": price_middle,\n",
    "            \"High\": price_higher, \"Address\": address, \"HouseNumber\": range(propertyIDBegin, propertyIDEnd+1, 2),\n",
    "            \"Longitude\": longitude, \"Latitude\": latitude})\n",
    "raw_data\n"
   ]
  },
  {
   "cell_type": "code",
   "execution_count": 7,
   "metadata": {},
   "outputs": [
    {
     "data": {
      "text/plain": [
       "1299225600.0"
      ]
     },
     "execution_count": 7,
     "metadata": {},
     "output_type": "execute_result"
    }
   ],
   "source": [
    "estimateVar = np.var(price_middle)\n",
    "estimateVar\n"
   ]
  },
  {
   "cell_type": "code",
   "execution_count": 8,
   "metadata": {},
   "outputs": [
    {
     "data": {
      "text/plain": [
       "Text(0.5, 1.0, 'Prices of properties along Munster Avenue with TW4 5BQ post code')"
      ]
     },
     "execution_count": 8,
     "metadata": {},
     "output_type": "execute_result"
    },
    {
     "data": {
      "image/png": "[encoded data removed]",
      "text/plain": [
       "<Figure size 864x432 with 1 Axes>"
      ]
     },
     "metadata": {
      "needs_background": "light"
     },
     "output_type": "display_data"
    }
   ],
   "source": [
    "plt.figure(figsize=(12, 6))\n",
    "plt.scatter(range(propertyIDBegin, propertyIDEnd+1, 2), price_middle)\n",
    "plt.xlabel(\"Property Index\")\n",
    "plt.ylabel(\"Estimated Prize\")\n",
    "plt.title(\"Prices of properties along \" +\n",
    "          roadName[0] + \" with \" + postCode[0] + \" post code\")\n"
   ]
  },
  {
   "cell_type": "code",
   "execution_count": 9,
   "metadata": {},
   "outputs": [
    {
     "data": {
      "text/plain": [
       "Text(0.5, 1.0, 'Prices of properties along Munster Avenue with TW4 5BQ post code')"
      ]
     },
     "execution_count": 9,
     "metadata": {},
     "output_type": "execute_result"
    },
    {
     "data": {
      "image/png": "[encoded data removed]",
      "text/plain": [
       "<Figure size 864x432 with 1 Axes>"
      ]
     },
     "metadata": {
      "needs_background": "light"
     },
     "output_type": "display_data"
    }
   ],
   "source": [
    "plt.figure(figsize=(12, 6))\n",
    "yerror = np.array(price_higher)-np.array(price_middle)\n",
    "plt.errorbar(np.arange(1, len(price_middle)+1)*2-1, price_middle,\n",
    "             yerr=yerror, ecolor='y', capsize=4, fmt=':')\n",
    "plt.xlabel(\"Property Index\")\n",
    "plt.ylabel(\"Estimated Prize\")\n",
    "plt.title(\"Prices of properties along \" +\n",
    "          roadName[0] + \" with \" + postCode[0] + \" post code\")\n",
    "# plt.plot(range(1,len(price_middle)+1), price_higher)\n",
    "# plt.plot(range(1,len(price_middle)+1), price_lower)\n"
   ]
  },
  {
   "cell_type": "code",
   "execution_count": 10,
   "metadata": {},
   "outputs": [
    {
     "data": {
      "text/plain": [
       "[<matplotlib.lines.Line2D at 0x2712609a040>]"
      ]
     },
     "execution_count": 10,
     "metadata": {},
     "output_type": "execute_result"
    },
    {
     "data": {
      "image/png": "[encoded data removed]",
      "text/plain": [
       "<Figure size 432x288 with 1 Axes>"
      ]
     },
     "metadata": {
      "needs_background": "light"
     },
     "output_type": "display_data"
    }
   ],
   "source": [
    "plt.plot(range(1, len(price_middle)+1), price_lower,\n",
    "         linestyle=\"dashdot\", label=\"Lower\")\n",
    "plt.plot(range(1, len(price_middle)+1), price_higher,\n",
    "         linestyle=\"dashdot\", label=\"Higher\")\n"
   ]
  },
  {
   "cell_type": "code",
   "execution_count": 11,
   "metadata": {},
   "outputs": [
    {
     "name": "stdout",
     "output_type": "stream",
     "text": [
      "coefficient of determination: 0.08544765059597992\n",
      "intercept: 498748.11594202905\n",
      "coefficients: [631.30434783]\n"
     ]
    },
    {
     "data": {
      "image/png": "[encoded data removed]",
      "text/plain": [
       "<Figure size 864x432 with 1 Axes>"
      ]
     },
     "metadata": {
      "needs_background": "light"
     },
     "output_type": "display_data"
    }
   ],
   "source": [
    "from sklearn.linear_model import LinearRegression\n",
    "\n",
    "def my_IQR(raw_data, propertyName):\n",
    "    Q1 = raw_data[propertyName].quantile(0.25)\n",
    "    Q3 = raw_data[propertyName].quantile(0.75)\n",
    "    IQR = Q3 - Q1\n",
    "\n",
    "    raw_data_m1 = raw_data.copy()\n",
    "\n",
    "    # use IQR to remove outliers\n",
    "    raw_data_m1.drop(raw_data_m1[(raw_data_m1[propertyName] < (Q1 - 1.5 * IQR)) \\\n",
    "        | (raw_data_m1[propertyName] > (Q3 + 1.5 * IQR))].index, inplace=True)\n",
    "    return raw_data_m1\n",
    "\n",
    "# apply the IQR method to remove outliers\n",
    "raw_data_m1 = my_IQR(raw_data, \"Estimated price\")\n",
    "raw_data_m1 = raw_data_m1.dropna(subset = [\"Estimated price\"], axis = 0)\n",
    "\n",
    "X_train = raw_data_m1[[\"House number\"]]\n",
    "y_train = (raw_data_m1[\"Estimated price\"])\n",
    "linear_reg_model = LinearRegression().fit(X_train, y_train)\n",
    "\n",
    "r_sq = linear_reg_model.score(X_train, y_train)\n",
    "print(f\"coefficient of determination: {r_sq}\")      # the best score is 1\n",
    "print(f\"intercept: {linear_reg_model.intercept_}\")\n",
    "print(f\"coefficients: {linear_reg_model.coef_}\")\n",
    "\n",
    "plt.figure(figsize=(12, 6))\n",
    "plt.scatter(X_train, y_train)\n",
    "plt.plot(np.array(X_train), np.array(X_train) * linear_reg_model.coef_ + linear_reg_model.intercept_, 'r')\n",
    "plt.xlabel(\"House number\");\n",
    "plt.ylabel(\"ln(Estimated Prize)\");\n",
    "plt.title(\"ln(Prices of properties) against House number (dB)\");"
   ]
  }
 ],
 "metadata": {
  "interpreter": {
   "hash": "501834c540f8b330c04c1d43ec1666643355d13f80c9caf7e1080236b3fb263f"
  },
  "kernelspec": {
   "display_name": "Python 3.9.6 64-bit",
   "language": "python",
   "name": "python3"
  },
  "language_info": {
   "codemirror_mode": {
    "name": "ipython",
    "version": 3
   },
   "file_extension": ".py",
   "mimetype": "text/x-python",
   "name": "python",
   "nbconvert_exporter": "python",
   "pygments_lexer": "ipython3",
   "version": "3.9.6"
  },
  "orig_nbformat": 4
 },
 "nbformat": 4,
 "nbformat_minor": 2
}
